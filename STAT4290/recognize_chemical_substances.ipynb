{
 "cells": [
  {
   "cell_type": "code",
   "execution_count": 2,
   "id": "6f2625e5",
   "metadata": {},
   "outputs": [],
   "source": [
    "import pandas as pd\n",
    "import numpy as np\n",
    "\n",
    "import matplotlib.pyplot as plt\n",
    "\n",
    "from sklearn.model_selection import train_test_split\n",
    "from sklearn.neighbors import KNeighborsClassifier\n",
    "from sklearn.ensemble import RandomForestClassifier\n",
    "from sklearn.linear_model import LogisticRegression\n",
    "from sklearn.metrics import classification_report, accuracy_score, f1_score"
   ]
  },
  {
   "cell_type": "code",
   "execution_count": 9,
   "id": "4af0dcd8",
   "metadata": {},
   "outputs": [],
   "source": [
    "# Load tab-separated .txt file\n",
    "\n",
    "df = pd.read_csv(\"DB_220_IDLH_2mins.txt\", sep=\"\\t\", index_col=0, header=None)\n",
    "df['label'] = df.index.str.split(\"_\").str[0] # Extract label from row index (e.g. HCHO_1 -> HCHO)\n",
    "\n",
    "# Separate features and lables\n",
    "\n",
    "X = df.drop(columns=['label']).reset_index(drop=True)\n",
    "X = X.apply(pd.to_numeric)\n",
    "y = df['label'].apply(lambda x: 'MH' if x.startswith('MH-') else x).reset_index(drop=True)"
   ]
  },
  {
   "cell_type": "code",
   "execution_count": 10,
   "id": "b2480748",
   "metadata": {},
   "outputs": [
    {
     "data": {
      "text/plain": [
       "label\n",
       "HCHO         7\n",
       "HCl          7\n",
       "HNO3         7\n",
       "HF           7\n",
       "HCN          7\n",
       "SO2          7\n",
       "MH           7\n",
       "NO2          7\n",
       "F2           7\n",
       "Cl2          7\n",
       "Ammonia      7\n",
       "Arsine       7\n",
       "TA           7\n",
       "MA           7\n",
       "DM           7\n",
       "H2S          7\n",
       "Phosgene     7\n",
       "Phosphine    7\n",
       "Diborane     7\n",
       "Control      7\n",
       "Hydrazine    7\n",
       "Name: count, dtype: int64"
      ]
     },
     "execution_count": 10,
     "metadata": {},
     "output_type": "execute_result"
    }
   ],
   "source": [
    "pd.Series(y).value_counts()"
   ]
  },
  {
   "cell_type": "code",
   "execution_count": 11,
   "id": "c1c955a6",
   "metadata": {},
   "outputs": [],
   "source": [
    "# Define models\n",
    "\n",
    "# n_neighbors=3\n",
    "## 기본값은 5인데, 3으로 줄이면 모델이 더 민감하게 반응해서 소수 클래스도 더 잘 구분할 수 있다. \n",
    "## 과적합 위험도 있지만, 전자코 데이터셋처럼 클래스별 샘플 수가 작을 때에는 오히려 정확도가 높아질 수 있다.\n",
    "# n_estimators=100\n",
    "## 100개의 결정 트리를 만드는 설정\n",
    "## 너무 적으면 다양성이 부족하고, 너무 많으면 훈련 시간이 오래 걸린다. 100은 성능과 속도 사이의 좋은 균형을 제공하는 기본값이다.\n",
    "# random_state=1\n",
    "## 결과가 매번 바뀌지 않도록 재현성을 확보하기 위한 설정\n",
    "# max_iter=5000\n",
    "## 최적화 반복 횟수\n",
    "## 원래 기본값은 100이지만, 고차원 데이터에서 수렴 안되는 경우가 많아 5000으로 설정하였다.\n",
    "## 특히 전자코 데이터셋처럼 특성 수가 100개가 넘으면, 반복 횟수를 충분히 늘려줘야 학습이 제대로 된다.\n",
    "\n",
    "models = {\n",
    "    \"KNN\": KNeighborsClassifier(n_neighbors=3),\n",
    "    \"Random Forest\": RandomForestClassifier(n_estimators=100, random_state=1),\n",
    "    \"Logistic Regression\": LogisticRegression(max_iter=5000, solver='lbfgs')\n",
    "}"
   ]
  },
  {
   "cell_type": "code",
   "execution_count": 14,
   "id": "2c4f6915",
   "metadata": {},
   "outputs": [],
   "source": [
    "# Evaluate with 50 seeds\n",
    "results = {}\n",
    "for name, model in models.items():\n",
    "    accuracies = []\n",
    "    macro_f1s = []\n",
    "    for seed in range(50):\n",
    "        X_train, X_test, y_train, y_test = train_test_split(X, y, test_size=0.3, random_state=seed)\n",
    "        model.fit(X_train, y_train)\n",
    "        y_pred = model.predict(X_test)\n",
    "        accuracies.append(accuracy_score(y_test, y_pred))\n",
    "        macro_f1s.append(f1_score(y_test, y_pred, average='macro'))\n",
    "    results[name] = {\n",
    "        'accuracy': np.mean(accuracies),\n",
    "        'macro_f1': np.mean(macro_f1s)\n",
    "    }"
   ]
  },
  {
   "cell_type": "code",
   "execution_count": 15,
   "id": "7730f34b",
   "metadata": {},
   "outputs": [
    {
     "data": {
      "text/plain": [
       "{'KNN': {'accuracy': 0.9835555555555555, 'macro_f1': 0.988978996510885},\n",
       " 'Random Forest': {'accuracy': 0.98, 'macro_f1': 0.9809490076732448},\n",
       " 'Logistic Regression': {'accuracy': 0.9964444444444445,\n",
       "  'macro_f1': 0.9972026143790851}}"
      ]
     },
     "execution_count": 15,
     "metadata": {},
     "output_type": "execute_result"
    }
   ],
   "source": [
    "results"
   ]
  },
  {
   "cell_type": "code",
   "execution_count": 16,
   "id": "3401d14e",
   "metadata": {},
   "outputs": [
    {
     "data": {
      "image/png": "[encoded data removed]",
      "text/plain": [
       "<Figure size 640x480 with 1 Axes>"
      ]
     },
     "metadata": {},
     "output_type": "display_data"
    }
   ],
   "source": [
    "# Plot\n",
    "labels = list(results.keys())\n",
    "accs = [results[m]['accuracy'] for m in labels]\n",
    "f1s = [results[m]['macro_f1'] for m in labels]\n",
    "\n",
    "x = np.arange(len(labels))\n",
    "width = 0.35\n",
    "\n",
    "fig, ax = plt.subplots()\n",
    "rects1 = ax.bar(x - width/2, accs, width, label='Accuracy')\n",
    "rects2 = ax.bar(x + width/2, f1s, width, label='Macro F1')\n",
    "\n",
    "ax.set_ylabel('Score')\n",
    "ax.set_title('Model Performance Comparison')\n",
    "ax.set_xticks(x)\n",
    "ax.set_xticklabels(labels)\n",
    "ax.legend()\n",
    "plt.ylim(0, 1)\n",
    "plt.tight_layout()\n",
    "plt.savefig(\"model_performance.png\", dpi=300)\n",
    "plt.show()"
   ]
  },
  {
   "cell_type": "code",
   "execution_count": null,
   "id": "5af8c1ad",
   "metadata": {},
   "outputs": [],
   "source": []
  }
 ],
 "metadata": {
  "kernelspec": {
   "display_name": "base",
   "language": "python",
   "name": "python3"
  },
  "language_info": {
   "codemirror_mode": {
    "name": "ipython",
    "version": 3
   },
   "file_extension": ".py",
   "mimetype": "text/x-python",
   "name": "python",
   "nbconvert_exporter": "python",
   "pygments_lexer": "ipython3",
   "version": "3.11.5"
  }
 },
 "nbformat": 4,
 "nbformat_minor": 5
}
